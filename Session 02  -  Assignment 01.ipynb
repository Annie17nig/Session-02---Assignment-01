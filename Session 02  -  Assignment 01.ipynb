{
 "cells": [
  {
   "cell_type": "markdown",
   "metadata": {},
   "source": [
    "# Task 01"
   ]
  },
  {
   "cell_type": "markdown",
   "metadata": {},
   "source": [
    "## Q. 1.1\n",
    "\n",
    "Write a Python Program to implement your own myreduce() function which works exactly like \n",
    "Python's built-in function reduce()"
   ]
  },
  {
   "cell_type": "code",
   "execution_count": 261,
   "metadata": {},
   "outputs": [
    {
     "name": "stdout",
     "output_type": "stream",
     "text": [
      "Creating a List with Numbers as entered by User\n",
      "Please enter Number which you want to start List with, First list Element:1\n",
      "                                                                                                                     \n",
      "Please enter Number which List should be ending with, Last List Element:11\n",
      "                                                                                                                     \n",
      "Please specify Number by which List elements should jump to next one -or- Interval to skip numbers like 1,2, etc:1\n",
      "                                                                                                                     \n",
      "We need to sum up List : [1, 2, 3, 4, 5, 6, 7, 8, 9, 10]\n",
      "                                                                                          \n",
      "******************************************************************************************\n",
      "                                                                                          \n",
      "Sum of entire List computed using myreduce Function is: 55\n"
     ]
    }
   ],
   "source": [
    "#Asking user to input first, last elements of list and a number each list element should step up with\n",
    "\n",
    "print(\"Creating a List with Numbers as entered by User\")\n",
    "\n",
    "a = input(\"Please enter Number which you want to start List with, First list Element:\")\n",
    "print(\"                                                                                                                     \")\n",
    "\n",
    "b = input(\"Please enter Number which List should be ending with, Last List Element:\")\n",
    "print(\"                                                                                                                     \")\n",
    "\n",
    "c = input(\"Please specify Number by which List elements should jump to next one -or- Interval to skip numbers like 1,2, etc:\")\n",
    "print(\"                                                                                                                     \")\n",
    "\n",
    "\n",
    "#Converting Strings into Integers to create a List out of these\n",
    "Num_List = list(range(int(a),int(b),int(c)))\n",
    "\n",
    "#Printing List\n",
    "print(\"We need to sum up List :\", Num_List)\n",
    "\n",
    "\n",
    "print(\"                                                                                          \")\n",
    "print(\"******************************************************************************************\")\n",
    "print(\"                                                                                          \")\n",
    "\n",
    "\n",
    "#Defining a Function to sum two sequential Elements of List at a time and return Sum back to \"for\" loop, for each recursive call \n",
    "def Sum_List(x,y):\n",
    "    x = x + y\n",
    "    return(x)\n",
    "\n",
    "\n",
    "#,yreduce Function is written to call sum_list Function in iterations to sum up each List Element with previous sum\n",
    "#It initializes variable x first time with List's first element\n",
    "#Finally Prints Sum of entire List\n",
    "def myreduce(sum_list,Num_List1):\n",
    "    x = Num_List1[0]\n",
    "    for k in range(1,len(Num_List1)):\n",
    "         x=sum_list(x,Num_List1[k])\n",
    "    return x\n",
    "\n",
    "\n",
    "#Passing Function and List to myreduce Function and get output stored in lst variable\n",
    "lst = myreduce(Sum_List,Num_List)\n",
    "print(\"Sum of entire List computed using myreduce Function is:\", lst)"
   ]
  },
  {
   "cell_type": "markdown",
   "metadata": {},
   "source": [
    "\n",
    "\n",
    "\n",
    "\n",
    "## Q. 1.2\n",
    "\n",
    "Write a Python program to implement your own myfilter() function which works exactly like Python's built-in function filter() "
   ]
  },
  {
   "cell_type": "code",
   "execution_count": 29,
   "metadata": {},
   "outputs": [
    {
     "name": "stdout",
     "output_type": "stream",
     "text": [
      "                                             \n",
      "Filtering out Palindromes using user defined function: myfilter while passing filter_list Function and List to it:\n",
      "Palindrome Strings in given List are: ['SoS', 'MadaM', 'pHp', '10.01', '101']\n"
     ]
    }
   ],
   "source": [
    "#Creating a List of Alpha Numeric Elements\n",
    "Lst = ['SoS', 'MadaM', 'Ilisha', '201', 'pHP', 'pHp', '10.01', 'SaanVi', '101']\n",
    "\n",
    "\n",
    "#Creating another Empty List to store only Palindromes: Reverse of string being same as original string \n",
    "palin = []\n",
    "\n",
    "\n",
    "#Defining Function: filter_list to compare string with its reversed string\n",
    "#Then returning True if String is a Palindrome that reads same backwards as forwards else False\n",
    "def filter_list(l):\n",
    "    if (l == l[::-1]):\n",
    "        return True\n",
    "    else:\n",
    "        return False\n",
    "\n",
    "    \n",
    "#Calling Function for each element for List and appending returned Value to palin List if Function returns True for a match\n",
    "def myfilter(filter_list, Lst):\n",
    "    for i in range(len(Lst)):\n",
    "        boole = filter_list(Lst[i])\n",
    "        if boole == True:\n",
    "            palin.append(Lst[i])\n",
    "    return palin\n",
    "    \n",
    "    \n",
    "print(\"                                             \")\n",
    "print(\"Filtering out Palindromes using user defined function: myfilter while passing filter_list Function and List to it:\")\n",
    "palins = list(myfilter(filter_list,Lst))\n",
    "\n",
    "\n",
    "#Finally printing Lists of Palindrome Strings\n",
    "print(\"Palindrome Strings in given List are:\", palins)\n"
   ]
  },
  {
   "cell_type": "markdown",
   "metadata": {},
   "source": [
    "## Q. 02\n",
    "\n",
    "Implement List comprehensions to produce the following lists. \n",
    " \n",
    "Write List comprehensions to produce the following Lists \n",
    " \n",
    "['A', 'C', 'A', 'D', 'G', 'I', ’L’, ‘ D’]\n",
    "\n",
    "['x', 'xx', 'xxx', 'xxxx', 'y', 'yy', 'yyy', 'yyyy', 'z', 'zz', 'zzz', 'zzzz'] \n",
    "\n",
    "['x', 'y', 'z', 'xx', 'yy', 'zz', 'xxx', 'yyy', 'zzz', 'xxxx', 'yyyy', 'zzzz'] \n",
    "\n",
    "[[2], [3], [4], [3], [4], [5], [4], [5], [6]] \n",
    "\n",
    "[[2, 3, 4, 5], [3, 4, 5, 6], [4, 5, 6, 7], [5, 6, 7, 8]] \n",
    "\n",
    "[(1, 1), (2, 1), (3, 1), (1, 2), (2, 2), (3, 2), (1, 3), (2, 3), (3, 3)] \n",
    " "
   ]
  },
  {
   "cell_type": "code",
   "execution_count": 21,
   "metadata": {},
   "outputs": [
    {
     "name": "stdout",
     "output_type": "stream",
     "text": [
      "List Elements are: ['A', 'C', 'A', 'D', 'G', 'I', 'L', 'D']\n"
     ]
    }
   ],
   "source": [
    "#Initializing Variable: word with String ACADGILD\n",
    "word = 'ACADGILD'\n",
    "\n",
    "#Iterating through string to print each letter as one list element\n",
    "splitted_word = [x for x in word]\n",
    "\n",
    "#Printing List Elements\n",
    "print(\"List Elements are: %s\" %(splitted_word))"
   ]
  },
  {
   "cell_type": "code",
   "execution_count": 35,
   "metadata": {},
   "outputs": [
    {
     "data": {
      "text/plain": [
       "['x', 'xx', 'xxx', 'xxxx', 'y', 'yy', 'yyy', 'yyyy', 'z', 'zz', 'zzz', 'zzzz']"
      ]
     },
     "execution_count": 35,
     "metadata": {},
     "output_type": "execute_result"
    }
   ],
   "source": [
    "#Defining outer loop for each list element: 'x', 'y', 'z'\n",
    "#Then through inner loop printing/mutliplying each element as many times as the number of iteration\n",
    "#Repeating inner loop for each element in outer loop\n",
    "\n",
    "[alpha*i for i in ['x','y','z'] for alpha in range(1,5)]"
   ]
  },
  {
   "cell_type": "code",
   "execution_count": 36,
   "metadata": {},
   "outputs": [
    {
     "data": {
      "text/plain": [
       "['x', 'y', 'z', 'xx', 'yy', 'zz', 'xxx', 'yyy', 'zzz', 'xxxx', 'yyyy', 'zzzz']"
      ]
     },
     "execution_count": 36,
     "metadata": {},
     "output_type": "execute_result"
    }
   ],
   "source": [
    "#Defining outer for loop for number of times \n",
    "#Then running inner for loop for all 3 elements: 'x', 'y', 'z'\n",
    "#Repeating inner loop and printing/multiplying element as many times as defined by outer loop \n",
    "\n",
    "[alpha*i for i in range(1,5) for alpha in ['x','y','z']]"
   ]
  },
  {
   "cell_type": "code",
   "execution_count": 40,
   "metadata": {},
   "outputs": [
    {
     "data": {
      "text/plain": [
       "[[2], [3], [4], [3], [4], [5], [4], [5], [6]]"
      ]
     },
     "execution_count": 40,
     "metadata": {},
     "output_type": "execute_result"
    }
   ],
   "source": [
    "#Incrementing each element of List: [1,2,3] by 1 then 2 and 3 and printing as separate list element\n",
    "#To make it [1+1,2+1,3+1]=[2],[3],[4] by first iteration and so on.. \n",
    "\n",
    "[[i+j] for j in range(1,4) for i in [1,2,3]]"
   ]
  },
  {
   "cell_type": "code",
   "execution_count": 41,
   "metadata": {},
   "outputs": [
    {
     "name": "stdout",
     "output_type": "stream",
     "text": [
      "[[2, 3, 4, 5], [3, 4, 5, 6], [4, 5, 6, 7], [5, 6, 7, 8]]\n"
     ]
    }
   ],
   "source": [
    "#Incrementing each element of List: [1,2,3,4] by 1 then 2, 3 and 4\n",
    "#To make separate Lists [1+1,2+1,3+1,4+1]=[2,3,4,5] by first iteration and so on.. \n",
    "\n",
    "ls = [[j+i for j in [1,2,3,4]] for i in range(1,5)]\n",
    "\n",
    "#Printing List of Lists\n",
    "print(ls)"
   ]
  },
  {
   "cell_type": "code",
   "execution_count": 42,
   "metadata": {},
   "outputs": [
    {
     "name": "stdout",
     "output_type": "stream",
     "text": [
      "[(1, 1), (2, 1), (3, 1), (1, 2), (2, 2), (3, 2), (1, 3), (2, 3), (3, 3)]\n"
     ]
    }
   ],
   "source": [
    "#Concatenating 2 Elements for each element in inner for loop with one element of outer one \n",
    "lst = [(x,y) for y in range(1,4) for x in range(1,4)]\n",
    "print(lst)"
   ]
  },
  {
   "cell_type": "markdown",
   "metadata": {},
   "source": [
    "## Q 03\n",
    "\n",
    "Implement a function longestWord() that takes a list of words and returns the longest one.\n"
   ]
  },
  {
   "cell_type": "code",
   "execution_count": 319,
   "metadata": {},
   "outputs": [
    {
     "name": "stdout",
     "output_type": "stream",
     "text": [
      "Distinct Longest word(s) in First SubList of given List, arranged alphabetically is/are: {'Encyclopedia'}\n",
      "Distinct Longest word(s) in Second SubList of given List, arranged alphabetically is/are: {'Ilisha', 'Saanvi'}\n"
     ]
    }
   ],
   "source": [
    "#This program would handle both Scenarios:\n",
    "#Scenario 01: To return Longest Word in a List when there is only one longest String\n",
    "#Scenario 02: To return Longest Words in a List when there are multiple Longest Strings of same length\n",
    "              #While List also contains repeated names in different case and repetitions are to be filered out \n",
    "\n",
    "\n",
    "#Defining a List of 2 Lists of names\n",
    "#First List contains only one longest string \n",
    "#Whereas Second List contains multiple longest words/strings of same length and also repeated names in different case\n",
    "word_list = [['Ilisha','Encyclopedia','Saanvi'], ['Vinod', 'Ilisha', 'Richa', 'ilisHa', 'Ashoo', 'Rekha', 'Saanvi']]\n",
    "\n",
    "\n",
    "\n",
    "\n",
    "#Defining a set longest_words to have it store only Distinct Values, if there are any, in same case\n",
    "longest_words = set()\n",
    "\n",
    "\n",
    "\n",
    "#Implementing Function longestWord() and passing List of names to it, one List at a time\n",
    "\n",
    "#To avoid final Set containing repeated names in same case, capitalizing each Name string in List\n",
    "#It initializes variable \"longest\" with first element of List and that is compared with rest of the elements through first for loop\n",
    "#At the end of all loop iterations \"longest\" will store first occurence of longest string\n",
    "#To cover all longest strings running second for loop to compare length one by one and adding that to set; longest_words\n",
    "#Finally Function returns set containing all Longest Names in passed List\n",
    "# At the beginning of next iteration old set is cleared out to have new additions to it\n",
    "def longestWord(nlist):\n",
    "    nlist = [names.capitalize() for names in nlist]\n",
    "    longest = nlist[0]\n",
    "    longest_words.clear()\n",
    "    \n",
    "    for j in range(len(nlist)):\n",
    "        if (len(nlist[j]) > len(longest)):\n",
    "            longest = nlist[j]\n",
    "        j=i+1\n",
    "    #print(longest)\n",
    "        \n",
    "    for k in range(len(nlist)):\n",
    "        if (len(nlist[k]) == len(longest)):\n",
    "            longest_words.add(longest)\n",
    "            longest_words.add(nlist[k])\n",
    "    return longest_words\n",
    "\n",
    "\n",
    "\n",
    "#Calling Function longestWord and passing it List of Names\n",
    "for i in range(len(word_list)):\n",
    "    if (i==0):\n",
    "        longest_words1=longestWord(word_list[i])\n",
    "        print(\"Distinct Longest word(s) in First SubList of given List, arranged alphabetically is/are: %s\" %(longest_words1))\n",
    "    if (i==1):\n",
    "        longest_words2=longestWord(word_list[i])\n",
    "        print(\"Distinct Longest word(s) in Second SubList of given List, arranged alphabetically is/are: %s\" %(longest_words2))\n"
   ]
  },
  {
   "cell_type": "markdown",
   "metadata": {},
   "source": [
    "# Task 02"
   ]
  },
  {
   "cell_type": "markdown",
   "metadata": {},
   "source": [
    "\n",
    "## Q. 1.1\n",
    " \n",
    "Write a Python Program(with class concepts) to find the area of the triangle using the below formula. \n",
    "\n",
    "area = (s*(s-a)*(s-b)*(s-c)) ** 0.5 \n",
    " \n",
    "Function to take the length of the sides of triangle from user should be defined in the parent class \n",
    "and function to calculate the area should be defined in subclass. \n",
    " "
   ]
  },
  {
   "cell_type": "code",
   "execution_count": 317,
   "metadata": {},
   "outputs": [
    {
     "name": "stdout",
     "output_type": "stream",
     "text": [
      "Please provide First Side of a Triangle in cms: 6\n",
      "Please provide Second Side of a Triangle in cms: 7\n",
      "Please provide Third Side of a Triangle in cms: 8\n",
      "                                                                                                               \n",
      "Printing Rounded-off Area of a Triangle as computed by calling user defined Method: area() of Child Class: Area\n",
      "20.33\n",
      "                                                                                                               \n",
      "Now Printing Area of a Triangle as computed by calling Object of a Child Class which inherits       Sides of Triangle as attributes of Base Class: Sides and Overrides Base Class' Method: __str__()\n",
      "                                                                                                               \n",
      "Sides of a given Triangle are: 6, 7, 8 And Area of a Triangle is: 20.333163 square cms\n"
     ]
    }
   ],
   "source": [
    "#Creating Parent Class: Sides which accepts lengths of each Side via special method: __init__()\n",
    "#And returning lengths back using another special method: __str__()\n",
    "class Sides:\n",
    "    def __init__(self, a, b, c):\n",
    "        self.a = float(a)\n",
    "        self.b = float(b)\n",
    "        self.c = float(c)\n",
    "    \n",
    "    def __str__(self):\n",
    "        return \"Sides of a given Triangle are: %d, %d, %d \" %(self.a,self.b,self.c)\n",
    "    \n",
    "\n",
    "    \n",
    "#Creating Sub Class: Area which uses Method: __init__() to inherit attributes of Base Class: Sides()\n",
    "#Contains user defined Method: area to compute Triangle Area for given sides\n",
    "#Finally Returning lengths by overriding Base Class' method: __str__() and also passing Computed Area via it\n",
    "class Area(Sides):\n",
    "    def __init__(self, *args, **kwargs):\n",
    "        super(Area, self).__init__(*args, **kwargs)\n",
    "    \n",
    "    def area(self):\n",
    "        s = (self.a + self.b + self.c)/2\n",
    "        trg_area = (s*(s-self.a)*(s-self.b)*(s-self.c))**0.5\n",
    "        self.trg_area = trg_area\n",
    "        return round(self.trg_area,2)\n",
    "     \n",
    "    def __str__(self):\n",
    "        return super(Area, self).__str__()  +  \"And Area of a Triangle is: %f square cms\" % self.trg_area\n",
    "        \n",
    "\n",
    "        \n",
    "#Receiving Sides of Triangle as Inputs from User\n",
    "x = input(\"Please provide First Side of a Triangle in cms: \")\n",
    "y = input(\"Please provide Second Side of a Triangle in cms: \")\n",
    "z = input(\"Please provide Third Side of a Triangle in cms: \")\n",
    "\n",
    "\n",
    "#Separating Output with a Blank line for clarity/readability\"\n",
    "print(\"                                                                                                               \")    \n",
    " \n",
    "\n",
    "#Creating Object: trg_area of Child Class: Area and passing user provided values to it via variables: x,y,z\n",
    "trg_area = Area(x,y,z)\n",
    "\n",
    "\n",
    "print(\"Printing Rounded-off Area of a Triangle as computed by calling user defined Method: area() of Child Class: Area\") \n",
    "print(trg_area.area())\n",
    "\n",
    "\n",
    "print(\"                                                                                                               \")    \n",
    "\n",
    "\n",
    "print(\"Now Printing Area of a Triangle as computed by calling Object of a Child Class which inherits \\\n",
    "      Sides of Triangle as attributes of Base Class: Sides and Overrides Base Class' Method: __str__()\") \n",
    "\n",
    "\n",
    "print(\"                                                                                                               \")    \n",
    "\n",
    "\n",
    "print(trg_area)\n",
    "\n"
   ]
  },
  {
   "cell_type": "markdown",
   "metadata": {},
   "source": [
    "\n",
    "\n",
    "## Q. 1.2\n",
    "Write a function filter_long_words() that takes a list of words and an integer n and returns the list of words that are\n",
    "longer than n. "
   ]
  },
  {
   "cell_type": "code",
   "execution_count": 320,
   "metadata": {},
   "outputs": [
    {
     "name": "stdout",
     "output_type": "stream",
     "text": [
      "Words longer than 5 in length, within given List are: ['Anjali', 'Ilisha', 'Saanvi']\n"
     ]
    }
   ],
   "source": [
    "#Defining a List of names\n",
    "#List contains multiple longest words of same length, repeated names in different case\n",
    "\n",
    "word_list = ['Annie', 'Ilisha', 'Richa',  'ilisHa', 'Ashoo', 'Rekha', 'Vinod', 'Saanvi', 'rekha', 'Anjali', 'saaNvi']\n",
    "\n",
    "\n",
    "#Defining a set to store Distinct Words/Names which are longer than \"n\" in length \n",
    "longer_words = set()\n",
    "\n",
    "\n",
    "#Defining an empty List\n",
    "longer = []\n",
    "\n",
    "#Initializing variable n with value 5\n",
    "n = 5\n",
    "\n",
    "#Implementing a Function filter_long_words() which accepts List and an Integer as arguments\n",
    "#Converts each element of List in Title Case so that repeated ones can be filtered out at the time of word addition to set \n",
    "#Compares word length with m\n",
    "#Adds such elements to set and finally returns set of words longer than n in length  \n",
    "def filter_long_words(names,m):\n",
    "    names = [name.title() for name in names]\n",
    "    for name in range(len(names)):\n",
    "        if (len(names[name]) > m):\n",
    "                longer_words.add(names[name])\n",
    "    return longer_words\n",
    "\n",
    "\n",
    "#Calling Function filter_long_words() and passing List and Integer as arguments to it\n",
    "#Accepts returned set of elements in longer_words\n",
    "longer_words = filter_long_words(word_list,n)\n",
    "\n",
    "\n",
    "#Converting set into List: longer\n",
    "longer = [i for i in longer_words]\n",
    "\n",
    "\n",
    "#Finally printing out List\n",
    "print(\"Words longer than %d in length, within given List are: %s\" %(n, longer))                 "
   ]
  },
  {
   "cell_type": "markdown",
   "metadata": {},
   "source": [
    "## Q 2.1 \n",
    " \n",
    "Write a Python program using function concept that maps  list of words into a list of integers representing \n",
    "the lengths of the corresponding words\n",
    "\n",
    "Hint: ​If a list [ ab,cde,erty] is passed on to the python function output should come as [2,3,4] \n",
    "\n",
    "Here 2,3 and 4 are the lengths of the words in the list. "
   ]
  },
  {
   "cell_type": "code",
   "execution_count": 307,
   "metadata": {},
   "outputs": [
    {
     "name": "stdout",
     "output_type": "stream",
     "text": [
      "Creating a List with User provided Inputs:\n",
      "Please enter List Element 1: Ilisha\n",
      "Please enter List Element 2: Saanvi\n",
      "Please enter List Element 3: Mommy-Daddy\n",
      "Please enter List Element 4: Guru Jee\n",
      "Please enter List Element 5: James Bond 007\n",
      "Please enter List Element 6: Archiekins~\n",
      "                                                                                                  \n",
      "List of Names is ['Ilisha', 'Saanvi', 'Mommy-Daddy', 'Guru Jee', 'James Bond 007', 'Archiekins~']: \n",
      "                                                                                                                        \n",
      "************************************************************************************************************************\n",
      "                                                                                                                        \n",
      "Using Method 01:\n",
      "Length of Names in List are: [6, 6, 11, 8, 14, 11]\n",
      "                                                                                                                        \n",
      "************************************************************************************************************************\n",
      "                                                                                                                        \n",
      "Using Method 02:\n",
      "Length of Names in List computed via map() Function are: [6, 6, 11, 8, 14, 11]\n"
     ]
    }
   ],
   "source": [
    "#Creating a String of 6 Names and computing length of each of its Elements by following 2 Methods:\n",
    "\n",
    "print(\"Creating a List with User provided Inputs:\")\n",
    "\n",
    "#Defining an Empty list: str_names\n",
    "str_names = []\n",
    "\n",
    "#Receiving User Inputs via for loop\n",
    "#Appending each input to form a List of all those inputs/elements \n",
    "for i in range(6):\n",
    "    name = input(\"Please enter List Element %d: \" %(i+1))\n",
    "    str_names.append(name)\n",
    "\n",
    "\n",
    "#Separating Output with a Blank line for clarity/readability\"\n",
    "print(\"                                                                                                  \")    \n",
    " \n",
    "print(\"List of Names is %s: \" %(str_names))\n",
    "\n",
    "\n",
    "print(\"                                                                                                                        \")\n",
    "print(\"************************************************************************************************************************\")\n",
    "print(\"                                                                                                                        \")                                                  \n",
    "\n",
    "#Method 01: To compute length of strings and appending those to a List via Function string_length()\n",
    "            #And returning List of all lengths\n",
    "\n",
    "\n",
    "#Defining an Empty List: lst_len to append computed lengths of strings to it\n",
    "lst_len = []\n",
    "\n",
    "\n",
    "#Implementing Function: strings_length() to compute lengths of each list element and appending to a new List: lst_len\n",
    "#Returning back List of computed lengths for all strings in same order\n",
    "def strings_length(n):\n",
    "    for i in range(len(n)):\n",
    "        lst_len.append(len(n[i]))\n",
    "    return lst_len\n",
    "\n",
    "\n",
    "#Calling Function string_length and storing returned List into another List: len_names\n",
    "#Printing List: len_names finally\n",
    "len_names = strings_length(str_names)\n",
    "print(\"Using Method 01:\")\n",
    "print(\"Length of Names in List are: %s\" %(len_names))\n",
    "\n",
    "\n",
    "\n",
    "print(\"                                                                                                                        \")\n",
    "print(\"************************************************************************************************************************\")\n",
    "print(\"                                                                                                                        \")\n",
    "\n",
    "\n",
    "\n",
    "#Method 02: To compute length of strings and appending those to a List via Function string_length()\n",
    "            #And returning List of all lengths\n",
    "\n",
    "\n",
    "#Implementing Function: string_length to return length of each string passed to it for each of its call\n",
    "#Passing m as an argument to it\n",
    "def string_length(m):\n",
    "    return len(m)\n",
    "\n",
    "\n",
    "#Passing Function: string_length and Iterable: str_names to it\n",
    "#Storing Value in List: names_len\n",
    "names_len = list(map(string_length, str_names))\n",
    "print(\"Using Method 02:\")\n",
    "print(\"Length of Names in List computed via map() Function are: %s\" %(names_len))\n",
    "\n"
   ]
  },
  {
   "cell_type": "markdown",
   "metadata": {},
   "source": [
    "## Q. 2.2 \n",
    "\n",
    "Write a Python function which takes a character (i.e. a string of length 1) and returns True if it is a vowel, False otherwise. "
   ]
  },
  {
   "cell_type": "code",
   "execution_count": 107,
   "metadata": {},
   "outputs": [
    {
     "name": "stdout",
     "output_type": "stream",
     "text": [
      "Alphabet I is a Vowel: True\n",
      "Alphabet l is a Vowel: False\n",
      "Alphabet i is a Vowel: True\n",
      "Alphabet s is a Vowel: False\n",
      "Alphabet h is a Vowel: False\n",
      "Alphabet a is a Vowel: True\n"
     ]
    }
   ],
   "source": [
    "#Defining Name as a String and initializing it with a Value: 'Ilisha' \n",
    "Name =  'Ilisha'\n",
    "\n",
    "\n",
    "#Function is being implemented to accept each letter passed to it as argument\n",
    "#After converting it to lower case it is matched with vowel list and returns True if there is a match else returns False\n",
    "def filter_vowel(let):\n",
    "         let = let.lower()\n",
    "         if let in ('a','e','i','o','u'):\n",
    "            return True\n",
    "         else:\n",
    "            return False\n",
    "        \n",
    "\n",
    "#For loop is written which calls Function: filter_vowel and passes letters one by one of Name string\n",
    "#Prints that Letter/Alphabet and lists whether it is a Vowel or not based on Returned Value  \n",
    "for letter in Name:\n",
    "    boole = filter_vowel(letter)\n",
    "    if boole:\n",
    "        print(\"Alphabet %s is a Vowel: %s\" %(letter,boole))\n",
    "    else:\n",
    "        print(\"Alphabet %s is a Vowel: %s\" %(letter,boole))\n"
   ]
  }
 ],
 "metadata": {
  "kernelspec": {
   "display_name": "Python 3",
   "language": "python",
   "name": "python3"
  },
  "language_info": {
   "codemirror_mode": {
    "name": "ipython",
    "version": 3
   },
   "file_extension": ".py",
   "mimetype": "text/x-python",
   "name": "python",
   "nbconvert_exporter": "python",
   "pygments_lexer": "ipython3",
   "version": "3.6.4"
  }
 },
 "nbformat": 4,
 "nbformat_minor": 2
}
